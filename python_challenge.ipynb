{
 "cells": [
  {
   "cell_type": "markdown",
   "metadata": {},
   "source": [
    "## Number: 0\n",
    "\n",
    "URL: http://www.pythonchallenge.com/pc/def/0.html\n",
    "\n",
    "Hint:\n",
    ">\"try to change the URL address.\""
   ]
  },
  {
   "cell_type": "markdown",
   "metadata": {},
   "source": [
    "### Solution:\n",
    "The image says 2^38, which is 274877906944\n",
    "\n",
    "So, change the 0 in the URL to 274877906944 and thus we have:\n",
    "http://www.pythonchallenge.com/pc/def/274877906944.html which redirects to: http://www.pythonchallenge.com/pc/def/map.html\n",
    "\n",
    "---"
   ]
  },
  {
   "cell_type": "markdown",
   "metadata": {},
   "source": [
    "## Number: 1\n",
    "\n",
    "URL: http://www.pythonchallenge.com/pc/def/map.html\n",
    "\n",
    "Hint:\n",
    "\n",
    ">everybody thinks twice before solving this."
   ]
  },
  {
   "cell_type": "code",
   "execution_count": 8,
   "metadata": {},
   "outputs": [
    {
     "output_type": "stream",
     "name": "stdout",
     "text": [
      "i hope you didnt translate it by hand. thats what computers are for. doing it in by hand is inefficient and that's why this text is so long. using string.maketrans() is recommended. now apply on the url. \n"
     ]
    }
   ],
   "source": [
    "mysterious_message = \"g fmnc wms bgblr rpylqjyrc gr zw fylb. rfyrq ufyr amknsrcpq ypc dmp. bmgle gr gl zw fylb gq glcddgagclr ylb rfyr'q ufw rfgq rcvr gq qm jmle. sqgle qrpgle.kyicrpylq() gq pcamkkclbcb. lmu ynnjw ml rfc spj. \"\n",
    "\n",
    "original_values = \"abcdefghijklmnopqrstuvwxyz\"\n",
    "corresponding_values = \"cdefghijklmnopqrstuvwxyzab\"\n",
    "\n",
    "dictionary = mysterious_message.maketrans(original_values, corresponding_values)\n",
    "decoded_message = mysterious_message.translate(dictionary)\n",
    "\n",
    "print(decoded_message)"
   ]
  },
  {
   "cell_type": "markdown",
   "metadata": {},
   "source": [
    "### Solution:\n",
    "Applying the function to the address (\"map\") results in \"ocr\", so the next URL is:\n",
    "http://www.pythonchallenge.com/pc/def/ocr.html\n",
    "\n",
    "---"
   ]
  },
  {
   "cell_type": "markdown",
   "metadata": {},
   "source": [
    "## Number: 2\n",
    "\n",
    "URL: http://www.pythonchallenge.com/pc/def/ocr.html\n",
    "\n",
    "Hint:\n",
    "\n",
    ">recognize the characters. maybe they are in the book,\n",
    "but MAYBE they are in the page source."
   ]
  },
  {
   "cell_type": "code",
   "execution_count": 10,
   "metadata": {},
   "outputs": [],
   "source": [
    "# In the page source, there is this block of text (shortened for brevity sake):\n",
    "\n",
    "text = \"\"\"%%$@_$^__#)^)&!_+]!*@&^}@[@%]()%+$&[(_@%+%$*^@$^!+]!&_#)_*}{}}!}_]$[%}@[{_@#_^{*\n",
    "[[&@^(_*#(*&!^{+]_%)_)^[}@]#]%#@+^+[%{_*{!)}#$@#)_$!_(!*+#}%%}+$&$[\n",
    "%&]!{{%*_!*}&)}$**_{*!#%[[#]!](^^$![#[[*}%(_#^^!%))!_^@)@**@}}(%%{#*%@(((]^%^![&\n",
    "}!)$]&($)@](+(#{$)_%^%_^^#][{*[)%}+[##(##^{$}^]#&(&*{)%)&][&{]&#]}[[^^&[!#}${@_(\n",
    "#@}&$[[%]_&$+)$!%{(}$^$}*\"\"\""
   ]
  },
  {
   "source": [
    "In that mess of special characters, the \"rare characters\" must be common letters, so..."
   ],
   "cell_type": "markdown",
   "metadata": {}
  },
  {
   "cell_type": "code",
   "execution_count": 11,
   "metadata": {},
   "outputs": [
    {
     "output_type": "stream",
     "name": "stdout",
     "text": [
      "equality\n"
     ]
    }
   ],
   "source": [
    "rare_chars = [character for character in text if character.isalpha()]\n",
    "\n",
    "print(\"\".join(rare_chars))"
   ]
  },
  {
   "cell_type": "markdown",
   "metadata": {},
   "source": [
    "### Solution:\n",
    "\n",
    "The \"rare characters\" in the text block are \"e\", \"q\", \"u\", \"a\", \"l\", \"i\", \"t\", \"y\".\n",
    "\n",
    "So the next URL is: http://www.pythonchallenge.com/pc/def/equality.html\n",
    "\n",
    "---"
   ]
  },
  {
   "cell_type": "markdown",
   "metadata": {},
   "source": [
    "## Number: 3\n",
    "\n",
    "URL: http://www.pythonchallenge.com/pc/def/equality.html\n",
    "\n",
    "Hint:\n",
    "\n",
    ">One small letter, surrounded by EXACTLY three big bodyguards on each of its sides."
   ]
  },
  {
   "source": [
    "The page source has another big block of text. So let's find a \"small letter with three big bodyguards\" surrounding it."
   ],
   "cell_type": "markdown",
   "metadata": {}
  },
  {
   "cell_type": "code",
   "execution_count": 4,
   "metadata": {},
   "outputs": [],
   "source": [
    "# (shortened for brevity sake)\n",
    "text = \"\"\"\n",
    "kwgDEIuvHFxRfQhtqLKnJfONtkcnDORkZqbtPplsjjTEIsquhSsQTwNZuPVxaTqDvwMONBfCsNJuJpJHZ\n",
    "dCdFLtBQPtFQuCdKOrpndJNUFQIDSbetUKylhSUjcDVtbiQrWMRQhAwGUZyPneCGUjGBBTkLqxLAXXtB\n",
    "KfErkDaWMFZZeuqDmXKJEGHyToPUhPphfVhgUZgbIuRAtWnroImpJKqqmEZqeNQCKzhjIkKQHURWLXFw\n",
    "PBuijeoTSpsVLaOGuLVjMZXkBvVXwUuHfBihziiavGSYofPNeKsTXruMUumRRPQJzvSzJkKbtSipiqBd\"\"\""
   ]
  },
  {
   "source": [
    "It is easy to notice that the text is a combination of upper and lower-case characters. So the hint seems to point to a single lower-case character surrounded by two sets of upper-case characters, each of which is three characters long.\n",
    "\n",
    "For example: \"MFFtDYD\", or \"RKLeQTN\"\n",
    "\n",
    "We should be able to find this pattern with a regex like the following:\n",
    "\n",
    "`re.findall('[A-Z]{3}[a-z][A-Z]{3}', text)`\n",
    "\n",
    "However, I noticed that if I look for that pattern I get way too many matches, which was suspicious. Taking a closer look at the hint, it says \"One small letter, surrounded by **EXACTLY** three big bodyguards\", and the previous pattern would match 3 or more upper-case letters surrounding a lower-case letter.\n",
    "\n",
    "In other words, we want to find patterns like these instead:\n",
    "\n",
    "\"aMFFtDYDb\", or \"gRKLeQTNp\"\n",
    "\n",
    "So that means the regex is:\n",
    "\n",
    "`re.findall('[a-z][A-Z]{3}[a-z][A-Z]{3}[a-z]', text)`"
   ],
   "cell_type": "markdown",
   "metadata": {}
  },
  {
   "cell_type": "code",
   "execution_count": 14,
   "metadata": {},
   "outputs": [
    {
     "output_type": "execute_result",
     "data": {
      "text/plain": [
       "['qIQNlQSLi',\n",
       " 'eOEKiVEYj',\n",
       " 'aZADnMCZq',\n",
       " 'bZUTkLYNg',\n",
       " 'uCNDeHSBj',\n",
       " 'kOIXdKBFh',\n",
       " 'dXJVlGZVm',\n",
       " 'gZAGiLQZx',\n",
       " 'vCJAsACFl',\n",
       " 'qKWGtIDCj']"
      ]
     },
     "metadata": {},
     "execution_count": 14
    }
   ],
   "source": [
    "import re\n",
    "re.findall('[a-z][A-Z]{3}[a-z][A-Z]{3}[a-z]', text)"
   ]
  },
  {
   "source": [
    "### Solution:\n",
    "\n",
    "The lower-case characters in the middle of the matches spell \"linkedlist\".\n",
    "\n",
    "So the next URL is: http://www.pythonchallenge.com/pc/def/linkedlist.html\n",
    "\n",
    "Once I open that URL, I only get the text \"linkedlist.php\", so let's go to http://www.pythonchallenge.com/pc/def/linkedlist.php\n",
    "\n",
    "---"
   ],
   "cell_type": "markdown",
   "metadata": {}
  },
  {
   "source": [
    "## Number: 4\n",
    "\n",
    "URL: http://www.pythonchallenge.com/pc/def/linkedlist.php\n",
    "\n",
    "Hint: No hint"
   ],
   "cell_type": "markdown",
   "metadata": {}
  },
  {
   "source": [
    "There is no hint in this level, but there are a few hints hidden in the page.\n",
    "\n",
    "First, let's not forget the name of this level is \"linkedlist\".\n",
    "\n",
    "The page source has this comment:\n",
    "\n",
    "> urllib may help. DON'T TRY ALL NOTHINGS, since it will never \n",
    "end. 400 times is more than enough.\n",
    "\n",
    "There is a creepy image named \"chainsaw.jpg\", which links to http://www.pythonchallenge.com/pc/def/linkedlist.php?nothing=12345\n",
    "\n",
    "Opening that link, we get the message\n",
    "\n",
    "> and the next nothing is 44827\n",
    "\n",
    "So it seems opening a link will provide the next, and we should do this 400 times at most.\n",
    "\n",
    "We can create a little script to do that for us:"
   ],
   "cell_type": "markdown",
   "metadata": {}
  },
  {
   "cell_type": "code",
   "execution_count": 6,
   "metadata": {},
   "outputs": [
    {
     "output_type": "stream",
     "name": "stdout",
     "text": [
      "44827\n",
      "45439\n",
      "94485\n",
      "72198\n",
      "80992\n",
      "8880\n",
      "40961\n",
      "58765\n",
      "46561\n",
      "13418\n",
      "41954\n",
      "46782\n",
      "92730\n",
      "89229\n",
      "25646\n",
      "74288\n",
      "25945\n",
      "39876\n",
      "8498\n",
      "34684\n",
      "62316\n",
      "71331\n",
      "59717\n",
      "76893\n",
      "44091\n",
      "73241\n",
      "19242\n",
      "17476\n",
      "39566\n",
      "81293\n",
      "25857\n",
      "74343\n",
      "39410\n",
      "5505\n",
      "27104\n",
      "54003\n",
      "23501\n",
      "21110\n",
      "88399\n",
      "49740\n",
      "31552\n",
      "39998\n",
      "19755\n",
      "64624\n",
      "37817\n",
      "43427\n",
      "15115\n",
      "44327\n",
      "7715\n",
      "15248\n",
      "61895\n",
      "54759\n",
      "54270\n",
      "51332\n",
      "63481\n",
      "12362\n",
      "94476\n",
      "87810\n",
      "6027\n",
      "47551\n",
      "79498\n",
      "81226\n",
      "4256\n",
      "62734\n",
      "25666\n",
      "14781\n",
      "21412\n",
      "55205\n",
      "65516\n",
      "53535\n",
      "4437\n",
      "43442\n",
      "91308\n",
      "1312\n",
      "36268\n",
      "34289\n",
      "46384\n",
      "18097\n",
      "9401\n",
      "54249\n",
      "29247\n",
      "13115\n",
      "23053\n",
      "3875\n",
      "16044\n",
      "going.\n",
      "72758\n",
      "71301\n",
      "55577\n",
      "88786\n",
      "32293\n",
      "87798\n",
      "24838\n",
      "66137\n",
      "88016\n",
      "36876\n",
      "33179\n",
      "90231\n",
      "17825\n",
      "84361\n",
      "99222\n",
      "87348\n",
      "47100\n",
      "90650\n",
      "84369\n",
      "36116\n",
      "96544\n",
      "62892\n",
      "43790\n",
      "67652\n",
      "32839\n",
      "5353\n",
      "63153\n",
      "48029\n",
      "84141\n",
      "14662\n",
      "78566\n",
      "18131\n",
      "710\n",
      "67500\n",
      "34992\n",
      "64568\n",
      "8155\n",
      "30579\n",
      "11629\n",
      "32490\n",
      "47936\n",
      "51350\n",
      "51877\n",
      "38270\n",
      "41643\n",
      "23416\n",
      "54432\n",
      "4448\n",
      "30086\n",
      "93346\n",
      "53491\n",
      "31248\n",
      "37446\n",
      "11309\n",
      "13878\n",
      "31404\n",
      "27786\n",
      "16030\n",
      "4689\n",
      "16553\n",
      "98150\n",
      "19224\n",
      "71919\n",
      "53068\n",
      "71407\n",
      "54264\n",
      "33407\n",
      "11086\n",
      "72527\n",
      "92923\n",
      "93389\n",
      "94438\n",
      "88796\n",
      "90785\n",
      "73079\n",
      "75559\n",
      "53223\n",
      "75979\n",
      "55749\n",
      "52948\n",
      "71569\n",
      "10240\n",
      "3064\n",
      "29818\n",
      "88835\n",
      "38200\n",
      "32515\n",
      "43551\n",
      "1398\n",
      "23580\n",
      "31619\n",
      "83052\n",
      "37409\n",
      "85052\n",
      "13510\n",
      "43240\n",
      "5868\n",
      "19337\n",
      "21122\n",
      "92118\n",
      "44659\n",
      "60291\n",
      "29895\n",
      "98452\n",
      "42243\n",
      "25755\n",
      "28879\n",
      "37149\n",
      "17033\n",
      "543\n",
      "82304\n",
      "80616\n",
      "36217\n",
      "16201\n",
      "33304\n",
      "20091\n",
      "93295\n",
      "75485\n",
      "1765\n",
      "76626\n",
      "92820\n",
      "52222\n",
      "2892\n",
      "65776\n",
      "817\n",
      "2025\n",
      "94455\n",
      "47579\n",
      "56908\n",
      "39768\n",
      "76810\n",
      "36875\n",
      "97644\n",
      "84602\n",
      "86446\n",
      "71359\n",
      "33883\n",
      "70553\n",
      "98832\n",
      "60599\n",
      "17342\n",
      "74423\n",
      "41609\n",
      "54377\n",
      "33490\n",
      "35815\n",
      "59166\n",
      "11441\n",
      "94796\n",
      "68509\n",
      "45872\n",
      "81664\n",
      "94537\n",
      "36571\n",
      "52815\n",
      "54533\n",
      "74595\n",
      "55654\n",
      "48550\n",
      "56044\n",
      "25536\n",
      "30479\n",
      "77512\n",
      "94866\n",
      "26746\n",
      "44833\n",
      "96169\n",
      "73807\n",
      "65481\n",
      "28520\n",
      "71069\n",
      "40951\n",
      "72828\n",
      "80158\n",
      "22504\n",
      "69881\n",
      "15695\n",
      "49718\n",
      "64436\n",
      "27671\n",
      "44306\n",
      "59668\n",
      "52257\n",
      "7219\n",
      "36882\n",
      "48246\n",
      "10907\n",
      "57291\n",
      "15565\n",
      "40253\n",
      "57887\n",
      "75107\n",
      "4757\n",
      "3219\n",
      "84631\n",
      "75550\n",
      "30793\n",
      "30982\n",
      "4391\n",
      "86607\n",
      "41433\n",
      "97107\n",
      "89858\n",
      "186\n",
      "37842\n",
      "2777\n",
      "44508\n",
      "48314\n",
      "48355\n",
      "67280\n",
      "852\n",
      "6756\n",
      "93964\n",
      "51422\n",
      "82972\n",
      "20192\n",
      "12568\n",
      "33780\n",
      "28995\n",
      "94122\n",
      "13677\n",
      "78020\n",
      "50718\n",
      "3014\n",
      "87513\n",
      "60592\n",
      "16613\n",
      "48784\n",
      "91727\n",
      "81823\n",
      "92306\n",
      "82052\n",
      "99401\n",
      "2228\n",
      "69304\n",
      "36845\n",
      "72224\n",
      "84132\n",
      "92376\n",
      "40503\n",
      "67329\n",
      "56881\n",
      "72156\n",
      "46463\n",
      "62058\n",
      "54696\n",
      "65731\n",
      "38290\n",
      "57913\n",
      "6309\n",
      "73902\n",
      "19934\n",
      "16055\n",
      "50563\n",
      "47825\n",
      "73265\n",
      "90961\n",
      "29740\n",
      "43628\n",
      "11088\n",
      "93781\n",
      "55840\n",
      "80842\n",
      "59022\n",
      "23298\n",
      "27709\n",
      "96791\n",
      "75635\n",
      "52899\n",
      "66831\n",
      "peak.html\n",
      "72758\n",
      "71301\n",
      "55577\n",
      "88786\n",
      "32293\n",
      "87798\n",
      "24838\n",
      "66137\n",
      "88016\n",
      "36876\n",
      "33179\n",
      "90231\n",
      "17825\n",
      "84361\n",
      "99222\n",
      "87348\n",
      "47100\n",
      "90650\n",
      "84369\n",
      "36116\n",
      "96544\n",
      "62892\n",
      "43790\n",
      "67652\n",
      "32839\n",
      "5353\n",
      "63153\n",
      "48029\n",
      "84141\n",
      "14662\n",
      "78566\n",
      "18131\n",
      "710\n",
      "67500\n",
      "34992\n",
      "64568\n",
      "8155\n",
      "30579\n",
      "11629\n",
      "32490\n",
      "47936\n",
      "51350\n",
      "51877\n"
     ]
    }
   ],
   "source": [
    "import requests\n",
    "next_link = \"12345\"\n",
    "for i in range(400):\n",
    "    response = requests.get(f\"http://www.pythonchallenge.com/pc/def/linkedlist.php?nothing={next_link}\")\n",
    "    next_link = response.text.split()[-1]\n",
    "    print(next_link)"
   ]
  },
  {
   "source": [
    "### Solution:\n",
    "\n",
    "One of the responses is \"peak.html\", so that must be the next level.\n",
    "\n",
    "So the next URL is: http://www.pythonchallenge.com/pc/def/peak.html\n",
    "\n",
    "Now that we know that, we can optimize our previous script a little:\n",
    "\n",
    "---"
   ],
   "cell_type": "markdown",
   "metadata": {}
  },
  {
   "cell_type": "code",
   "execution_count": 12,
   "metadata": {},
   "outputs": [
    {
     "output_type": "stream",
     "name": "stdout",
     "text": [
      "peak.html\n"
     ]
    }
   ],
   "source": [
    "import requests\n",
    "next_link = \"12345\"\n",
    "for i in range(400):\n",
    "    response = requests.get(f\"http://www.pythonchallenge.com/pc/def/linkedlist.php?nothing={next_link}\")\n",
    "    next_link = response.text.split()[-1]\n",
    "    if next_link.endswith(\".html\"):\n",
    "        print(next_link)"
   ]
  },
  {
   "source": [
    "## Number: 5\n",
    "\n",
    "URL: http://www.pythonchallenge.com/pc/def/peak.html\n",
    "\n",
    "Hint: \n",
    "> pronounce it"
   ],
   "cell_type": "markdown",
   "metadata": {}
  },
  {
   "source": [
    "There is an image of a hill in this level. Also, the page's source code has another hint:\n",
    "\n",
    "> peak hell sounds familiar ?\n",
    "\n",
    "This honestly took me a couple of minutes to figure out, maybe because English is not my native language.\n",
    "\n",
    "\"Peak hell\" sounds a little bit like \"Pickle\", the popular file format.\n",
    "\n",
    "If we open http://www.pythonchallenge.com/pc/def/pickle.html we only get the message:\n",
    "\n",
    "> yes! pickle!\n",
    "\n",
    "I must say I was lost at this point, but I noticed that the source code had this line in it:\n",
    "\n",
    "`<peakhell src=\"banner.p\"/>`\n",
    "\n",
    "So let's download and unpickle that `banner.p` file."
   ],
   "cell_type": "markdown",
   "metadata": {}
  },
  {
   "cell_type": "code",
   "execution_count": 2,
   "metadata": {},
   "outputs": [
    {
     "output_type": "stream",
     "name": "stdout",
     "text": [
      "[[(' ', 95)], [(' ', 14), ('#', 5), (' ', 70), ('#', 5), (' ', 1)], [(' ', 15), ('#', 4), (' ', 71), ('#', 4), (' ', 1)], [(' ', 15), ('#', 4), (' ', 71), ('#', 4), (' ', 1)], [(' ', 15), ('#', 4), (' ', 71), ('#', 4), (' ', 1)], [(' ', 15), ('#', 4), (' ', 71), ('#', 4), (' ', 1)], [(' ', 15), ('#', 4), (' ', 71), ('#', 4), (' ', 1)], [(' ', 15), ('#', 4), (' ', 71), ('#', 4), (' ', 1)], [(' ', 15), ('#', 4), (' ', 71), ('#', 4), (' ', 1)], [(' ', 6), ('#', 3), (' ', 6), ('#', 4), (' ', 3), ('#', 3), (' ', 9), ('#', 3), (' ', 7), ('#', 5), (' ', 3), ('#', 3), (' ', 4), ('#', 5), (' ', 3), ('#', 3), (' ', 10), ('#', 3), (' ', 7), ('#', 4), (' ', 1)], [(' ', 3), ('#', 3), (' ', 3), ('#', 2), (' ', 4), ('#', 4), (' ', 1), ('#', 7), (' ', 5), ('#', 2), (' ', 2), ('#', 3), (' ', 6), ('#', 4), (' ', 1), ('#', 7), (' ', 3), ('#', 4), (' ', 1), ('#', 7), (' ', 5), ('#', 3), (' ', 2), ('#', 3), (' ', 5), ('#', 4), (' ', 1)], [(' ', 2), ('#', 3), (' ', 5), ('#', 3), (' ', 2), ('#', 5), (' ', 4), ('#', 4), (' ', 3), ('#', 3), (' ', 3), ('#', 4), (' ', 4), ('#', 5), (' ', 4), ('#', 4), (' ', 2), ('#', 5), (' ', 4), ('#', 4), (' ', 3), ('#', 3), (' ', 5), ('#', 3), (' ', 3), ('#', 4), (' ', 1)], [(' ', 1), ('#', 3), (' ', 11), ('#', 4), (' ', 5), ('#', 4), (' ', 3), ('#', 3), (' ', 4), ('#', 3), (' ', 4), ('#', 4), (' ', 5), ('#', 4), (' ', 2), ('#', 4), (' ', 5), ('#', 4), (' ', 2), ('#', 3), (' ', 6), ('#', 4), (' ', 2), ('#', 4), (' ', 1)], [(' ', 1), ('#', 3), (' ', 11), ('#', 4), (' ', 5), ('#', 4), (' ', 10), ('#', 3), (' ', 4), ('#', 4), (' ', 5), ('#', 4), (' ', 2), ('#', 4), (' ', 5), ('#', 4), (' ', 2), ('#', 3), (' ', 7), ('#', 3), (' ', 2), ('#', 4), (' ', 1)], [('#', 4), (' ', 11), ('#', 4), (' ', 5), ('#', 4), (' ', 5), ('#', 2), (' ', 3), ('#', 3), (' ', 4), ('#', 4), (' ', 5), ('#', 4), (' ', 2), ('#', 4), (' ', 5), ('#', 4), (' ', 1), ('#', 4), (' ', 7), ('#', 3), (' ', 2), ('#', 4), (' ', 1)], [('#', 4), (' ', 11), ('#', 4), (' ', 5), ('#', 4), (' ', 3), ('#', 10), (' ', 4), ('#', 4), (' ', 5), ('#', 4), (' ', 2), ('#', 4), (' ', 5), ('#', 4), (' ', 1), ('#', 14), (' ', 2), ('#', 4), (' ', 1)], [('#', 4), (' ', 11), ('#', 4), (' ', 5), ('#', 4), (' ', 2), ('#', 3), (' ', 4), ('#', 4), (' ', 4), ('#', 4), (' ', 5), ('#', 4), (' ', 2), ('#', 4), (' ', 5), ('#', 4), (' ', 1), ('#', 4), (' ', 12), ('#', 4), (' ', 1)], [('#', 4), (' ', 11), ('#', 4), (' ', 5), ('#', 4), (' ', 1), ('#', 4), (' ', 5), ('#', 3), (' ', 4), ('#', 4), (' ', 5), ('#', 4), (' ', 2), ('#', 4), (' ', 5), ('#', 4), (' ', 1), ('#', 4), (' ', 12), ('#', 4), (' ', 1)], [(' ', 1), ('#', 3), (' ', 11), ('#', 4), (' ', 5), ('#', 4), (' ', 1), ('#', 4), (' ', 5), ('#', 3), (' ', 4), ('#', 4), (' ', 5), ('#', 4), (' ', 2), ('#', 4), (' ', 5), ('#', 4), (' ', 2), ('#', 3), (' ', 12), ('#', 4), (' ', 1)], [(' ', 2), ('#', 3), (' ', 6), ('#', 2), (' ', 2), ('#', 4), (' ', 5), ('#', 4), (' ', 2), ('#', 3), (' ', 4), ('#', 4), (' ', 4), ('#', 4), (' ', 5), ('#', 4), (' ', 2), ('#', 4), (' ', 5), ('#', 4), (' ', 3), ('#', 3), (' ', 6), ('#', 2), (' ', 3), ('#', 4), (' ', 1)], [(' ', 3), ('#', 3), (' ', 4), ('#', 2), (' ', 3), ('#', 4), (' ', 5), ('#', 4), (' ', 3), ('#', 11), (' ', 3), ('#', 4), (' ', 5), ('#', 4), (' ', 2), ('#', 4), (' ', 5), ('#', 4), (' ', 4), ('#', 3), (' ', 4), ('#', 2), (' ', 4), ('#', 4), (' ', 1)], [(' ', 6), ('#', 3), (' ', 5), ('#', 6), (' ', 4), ('#', 5), (' ', 4), ('#', 2), (' ', 4), ('#', 4), (' ', 1), ('#', 6), (' ', 4), ('#', 11), (' ', 4), ('#', 5), (' ', 6), ('#', 3), (' ', 6), ('#', 6)], [(' ', 95)]]\n"
     ]
    }
   ],
   "source": [
    "import pickle\n",
    "\n",
    "opened_pickle = pickle.load(open(\"/home/ark/banner.p\", 'rb'))\n",
    "print(opened_pickle)"
   ]
  },
  {
   "source": [
    "The result seems like a pattern of lists and tuples. Let's try to make sense of it."
   ],
   "cell_type": "markdown",
   "metadata": {}
  },
  {
   "cell_type": "code",
   "execution_count": 25,
   "metadata": {},
   "outputs": [
    {
     "output_type": "stream",
     "name": "stdout",
     "text": [
      "[(' ', 95)]\n[(' ', 14), ('#', 5), (' ', 70), ('#', 5), (' ', 1)]\n[(' ', 15), ('#', 4), (' ', 71), ('#', 4), (' ', 1)]\n[(' ', 15), ('#', 4), (' ', 71), ('#', 4), (' ', 1)]\n[(' ', 15), ('#', 4), (' ', 71), ('#', 4), (' ', 1)]\n[(' ', 15), ('#', 4), (' ', 71), ('#', 4), (' ', 1)]\n[(' ', 15), ('#', 4), (' ', 71), ('#', 4), (' ', 1)]\n[(' ', 15), ('#', 4), (' ', 71), ('#', 4), (' ', 1)]\n[(' ', 15), ('#', 4), (' ', 71), ('#', 4), (' ', 1)]\n[(' ', 6), ('#', 3), (' ', 6), ('#', 4), (' ', 3), ('#', 3), (' ', 9), ('#', 3), (' ', 7), ('#', 5), (' ', 3), ('#', 3), (' ', 4), ('#', 5), (' ', 3), ('#', 3), (' ', 10), ('#', 3), (' ', 7), ('#', 4), (' ', 1)]\n[(' ', 3), ('#', 3), (' ', 3), ('#', 2), (' ', 4), ('#', 4), (' ', 1), ('#', 7), (' ', 5), ('#', 2), (' ', 2), ('#', 3), (' ', 6), ('#', 4), (' ', 1), ('#', 7), (' ', 3), ('#', 4), (' ', 1), ('#', 7), (' ', 5), ('#', 3), (' ', 2), ('#', 3), (' ', 5), ('#', 4), (' ', 1)]\n[(' ', 2), ('#', 3), (' ', 5), ('#', 3), (' ', 2), ('#', 5), (' ', 4), ('#', 4), (' ', 3), ('#', 3), (' ', 3), ('#', 4), (' ', 4), ('#', 5), (' ', 4), ('#', 4), (' ', 2), ('#', 5), (' ', 4), ('#', 4), (' ', 3), ('#', 3), (' ', 5), ('#', 3), (' ', 3), ('#', 4), (' ', 1)]\n[(' ', 1), ('#', 3), (' ', 11), ('#', 4), (' ', 5), ('#', 4), (' ', 3), ('#', 3), (' ', 4), ('#', 3), (' ', 4), ('#', 4), (' ', 5), ('#', 4), (' ', 2), ('#', 4), (' ', 5), ('#', 4), (' ', 2), ('#', 3), (' ', 6), ('#', 4), (' ', 2), ('#', 4), (' ', 1)]\n[(' ', 1), ('#', 3), (' ', 11), ('#', 4), (' ', 5), ('#', 4), (' ', 10), ('#', 3), (' ', 4), ('#', 4), (' ', 5), ('#', 4), (' ', 2), ('#', 4), (' ', 5), ('#', 4), (' ', 2), ('#', 3), (' ', 7), ('#', 3), (' ', 2), ('#', 4), (' ', 1)]\n[('#', 4), (' ', 11), ('#', 4), (' ', 5), ('#', 4), (' ', 5), ('#', 2), (' ', 3), ('#', 3), (' ', 4), ('#', 4), (' ', 5), ('#', 4), (' ', 2), ('#', 4), (' ', 5), ('#', 4), (' ', 1), ('#', 4), (' ', 7), ('#', 3), (' ', 2), ('#', 4), (' ', 1)]\n[('#', 4), (' ', 11), ('#', 4), (' ', 5), ('#', 4), (' ', 3), ('#', 10), (' ', 4), ('#', 4), (' ', 5), ('#', 4), (' ', 2), ('#', 4), (' ', 5), ('#', 4), (' ', 1), ('#', 14), (' ', 2), ('#', 4), (' ', 1)]\n[('#', 4), (' ', 11), ('#', 4), (' ', 5), ('#', 4), (' ', 2), ('#', 3), (' ', 4), ('#', 4), (' ', 4), ('#', 4), (' ', 5), ('#', 4), (' ', 2), ('#', 4), (' ', 5), ('#', 4), (' ', 1), ('#', 4), (' ', 12), ('#', 4), (' ', 1)]\n[('#', 4), (' ', 11), ('#', 4), (' ', 5), ('#', 4), (' ', 1), ('#', 4), (' ', 5), ('#', 3), (' ', 4), ('#', 4), (' ', 5), ('#', 4), (' ', 2), ('#', 4), (' ', 5), ('#', 4), (' ', 1), ('#', 4), (' ', 12), ('#', 4), (' ', 1)]\n[(' ', 1), ('#', 3), (' ', 11), ('#', 4), (' ', 5), ('#', 4), (' ', 1), ('#', 4), (' ', 5), ('#', 3), (' ', 4), ('#', 4), (' ', 5), ('#', 4), (' ', 2), ('#', 4), (' ', 5), ('#', 4), (' ', 2), ('#', 3), (' ', 12), ('#', 4), (' ', 1)]\n[(' ', 2), ('#', 3), (' ', 6), ('#', 2), (' ', 2), ('#', 4), (' ', 5), ('#', 4), (' ', 2), ('#', 3), (' ', 4), ('#', 4), (' ', 4), ('#', 4), (' ', 5), ('#', 4), (' ', 2), ('#', 4), (' ', 5), ('#', 4), (' ', 3), ('#', 3), (' ', 6), ('#', 2), (' ', 3), ('#', 4), (' ', 1)]\n[(' ', 3), ('#', 3), (' ', 4), ('#', 2), (' ', 3), ('#', 4), (' ', 5), ('#', 4), (' ', 3), ('#', 11), (' ', 3), ('#', 4), (' ', 5), ('#', 4), (' ', 2), ('#', 4), (' ', 5), ('#', 4), (' ', 4), ('#', 3), (' ', 4), ('#', 2), (' ', 4), ('#', 4), (' ', 1)]\n[(' ', 6), ('#', 3), (' ', 5), ('#', 6), (' ', 4), ('#', 5), (' ', 4), ('#', 2), (' ', 4), ('#', 4), (' ', 1), ('#', 6), (' ', 4), ('#', 11), (' ', 4), ('#', 5), (' ', 6), ('#', 3), (' ', 6), ('#', 6)]\n[(' ', 95)]\n"
     ]
    }
   ],
   "source": [
    "for item in opened_pickle:\n",
    "    print(item)"
   ]
  },
  {
   "source": [
    "This seems like a pattern of spaces and pound signs, so I bet it is some kind of ASCII art. Let's try to print the spaces and pound signs according to the number in each tuple\n",
    "\n",
    "For example, if a tuple is `('#', 4)`, let's print `####`."
   ],
   "cell_type": "markdown",
   "metadata": {}
  },
  {
   "source": [
    "for line in opened_pickle:\n",
    "    ascii_line = \"\"\n",
    "    for ascii_tuple in line:\n",
    "        ascii_line += ascii_tuple[0]*ascii_tuple[1]\n",
    "    print(ascii_line)"
   ],
   "cell_type": "code",
   "metadata": {
    "tags": []
   },
   "execution_count": 32,
   "outputs": [
    {
     "output_type": "stream",
     "name": "stdout",
     "text": [
      "                                                                                               \n              #####                                                                      ##### \n               ####                                                                       #### \n               ####                                                                       #### \n               ####                                                                       #### \n               ####                                                                       #### \n               ####                                                                       #### \n               ####                                                                       #### \n               ####                                                                       #### \n      ###      ####   ###         ###       #####   ###    #####   ###          ###       #### \n   ###   ##    #### #######     ##  ###      #### #######   #### #######     ###  ###     #### \n  ###     ###  #####    ####   ###   ####    #####    ####  #####    ####   ###     ###   #### \n ###           ####     ####   ###    ###    ####     ####  ####     ####  ###      ####  #### \n ###           ####     ####          ###    ####     ####  ####     ####  ###       ###  #### \n####           ####     ####     ##   ###    ####     ####  ####     #### ####       ###  #### \n####           ####     ####   ##########    ####     ####  ####     #### ##############  #### \n####           ####     ####  ###    ####    ####     ####  ####     #### ####            #### \n####           ####     #### ####     ###    ####     ####  ####     #### ####            #### \n ###           ####     #### ####     ###    ####     ####  ####     ####  ###            #### \n  ###      ##  ####     ####  ###    ####    ####     ####  ####     ####   ###      ##   #### \n   ###    ##   ####     ####   ###########   ####     ####  ####     ####    ###    ##    #### \n      ###     ######    #####    ##    #### ######    ###########    #####      ###      ######\n                                                                                               \n"
     ]
    }
   ]
  },
  {
   "source": [
    "### Solution:\n",
    "\n",
    "The ASCII art spells \"channel\", so that must be the URL for the next level.\n",
    "\n",
    "---"
   ],
   "cell_type": "markdown",
   "metadata": {}
  },
  {
   "source": [
    "## Number: 6\n",
    "\n",
    "URL: http://www.pythonchallenge.com/pc/def/channel.html\n",
    "\n",
    "Hint: None"
   ],
   "cell_type": "markdown",
   "metadata": {}
  },
  {
   "source": [
    "There is no hint in this level, just a creepy picture of a zipper.\n",
    "\n",
    "The title of the page is:\n",
    "\n",
    "> now there are pairs\n",
    "\n",
    "If we go to http://www.pythonchallenge.com/pc/def/zip.html we will only see:\n",
    "\n",
    "> yes. find the zip.\n",
    "\n",
    "The very first line of the page's source code is this:\n",
    "\n",
    "`<html> <!-- <-- zip -->`\n",
    "\n",
    "The word `zip` seems to be pointing to the left using `<--`.\n",
    "\n",
    "I am ashamed to admit that I spent A LOT of time stuck in this part. I thought the solution was related to Python's [zip function](https://docs.python.org/3/library/functions.html#zip), so I tried to find pairs iterables in the page, for example:\n",
    "\n",
    "`\"now there\"` and `\"are pairs\"`\n",
    "\n",
    "`\"<html>\"` and `\"<!--\"`\n",
    "\n",
    "And then I tried to change the URL to whatever combination of characters that created.\n",
    "\n",
    "This didn't work, so I had to try a different approach. I changed [channel.html](view-source:http://www.pythonchallenge.com/pc/def/channel.html) to [channel.zip](view-source:http://www.pythonchallenge.com/pc/def/channel.zip), which amazingly worked. So I downloaded that file."
   ],
   "cell_type": "markdown",
   "metadata": {}
  },
  {
   "source": [
    "The channel.zip file has many small text files inside, each named `<some_number>.txt`, and each saying something like:\n",
    "\n",
    "> The next nothing is <some_number>\n",
    "\n",
    "There's also a `readme.txt` file that says:\n",
    "\n",
    "> welcome to my zipped list.\n",
    "\n",
    "> hint1: start from 90052\n",
    "\n",
    "> hint2: answer is inside the zip\n",
    "\n",
    "So, this is very similar to Level 4. We will need to open each file and follow the breadcrumbs until we find the solution."
   ],
   "cell_type": "markdown",
   "metadata": {}
  },
  {
   "cell_type": "code",
   "execution_count": 13,
   "metadata": {
    "tags": []
   },
   "outputs": [
    {
     "output_type": "stream",
     "name": "stdout",
     "text": [
      "Collect the comments.\n"
     ]
    }
   ],
   "source": [
    "import zipfile\n",
    "\n",
    "next_nothing = \"90052\"\n",
    "\n",
    "with zipfile.ZipFile(\"channel.zip\") as z:\n",
    "    while next_nothing.isdigit():\n",
    "        with z.open(f\"{next_nothing}.txt\", \"r\") as text_file:\n",
    "            line = text_file.read().decode('UTF-8')\n",
    "            next_nothing = line.split()[-1]\n",
    "    print(line)"
   ]
  },
  {
   "source": [
    "So the file `46145.txt` says:\n",
    "\n",
    "> Collect the comments.\n",
    "\n",
    "But which comments?\n",
    "\n",
    "After some research, I found that each individual compressed file has [metadata](https://docs.python.org/3/library/zipfile.html#zipfile.ZipFile.getinfo), including [comments](https://docs.python.org/3/library/zipfile.html#zipfile.ZipInfo.comment).\n",
    "\n",
    "After printing this information I found a pattern of characters (one for each file). \n",
    "\n",
    "This pattern looked like ASCII art (again). So let's print it with our improved code:"
   ],
   "cell_type": "markdown",
   "metadata": {}
  },
  {
   "cell_type": "code",
   "execution_count": 15,
   "metadata": {},
   "outputs": [
    {
     "output_type": "stream",
     "name": "stdout",
     "text": [
      "****************************************************************\n****************************************************************\n**                                                            **\n**   OO    OO    XX      YYYY    GG    GG  EEEEEE NN      NN  **\n**   OO    OO  XXXXXX   YYYYYY   GG   GG   EEEEEE  NN    NN   **\n**   OO    OO XXX  XXX YYY   YY  GG GG     EE       NN  NN    **\n**   OOOOOOOO XX    XX YY        GGG       EEEEE     NNNN     **\n**   OOOOOOOO XX    XX YY        GGG       EEEEE      NN      **\n**   OO    OO XXX  XXX YYY   YY  GG GG     EE         NN      **\n**   OO    OO  XXXXXX   YYYYYY   GG   GG   EEEEEE     NN      **\n**   OO    OO    XX      YYYY    GG    GG  EEEEEE     NN      **\n**                                                            **\n****************************************************************\n **************************************************************\n\n"
     ]
    }
   ],
   "source": [
    "import zipfile\n",
    "\n",
    "next_nothing = \"90052\"\n",
    "ascii_art = []\n",
    "\n",
    "with zipfile.ZipFile(\"channel.zip\") as z:\n",
    "    while next_nothing.isdigit():\n",
    "        with z.open(f\"{next_nothing}.txt\", \"r\") as text_file:\n",
    "            info = z.getinfo(name=f\"{next_nothing}.txt\")\n",
    "            ascii_art.append(info.comment.decode('UTF-8'))\n",
    "            line = text_file.read().decode('UTF-8')\n",
    "            next_nothing = line.split()[-1]\n",
    "    print(\"\".join(ascii_art))"
   ]
  },
  {
   "source": [
    "### Solution:\n",
    "\n",
    "The ASCII art spells `HOCKEY`! So that looks like the next URL (and my favorite sport!).\n",
    "\n",
    "---"
   ],
   "cell_type": "markdown",
   "metadata": {}
  },
  {
   "source": [
    "## Number: 7\n",
    "\n",
    "URL: http://www.pythonchallenge.com/pc/def/hockey.html\n",
    "\n",
    "Hint:\n",
    "\n",
    "> it's in the air. look at the letters."
   ],
   "cell_type": "markdown",
   "metadata": {}
  },
  {
   "source": [
    "The hint says \"look at the letters\".\n",
    "\n",
    "If we take a look on the `hockey` ASCII art from the previous level, we can see that every ASCII character is formed by a diferent letter: O-X-Y-G-E-N\n",
    "\n",
    "If we replace that in the URL we get: http://www.pythonchallenge.com/pc/def/oxygen.html\n",
    "\n",
    "In this page there is an image of river with a pattern of rectangles in grayscale. The title of the page is \"smarty\".\n",
    "\n",
    "Since I read \"smarty\" in the title, the first thing that came to my mind was \"pants\", so I went to http://www.pythonchallenge.com/pc/def/pants.html, which only says \"amazing. zoom in\". Not very useful.\n",
    "\n",
    "Then, I opened the image in Gimp and analyzed the gray rectangles. Since there are no hidden letters or anything like that in the image, the information should be hidden in the color of the squares.\n",
    "\n",
    "The RGB value of the first rectangle (from left to right) is (115, 115, 115).\n",
    "\n",
    "I tried to match the RGB value of each rectangle with ASCII values, since I was pretty sure each rectangle corresponded to a letter.\n",
    "\n",
    "Each reactagle appears to be 6 pixels wide, except the first one, which is 4 pixels wide. They are also located around the 43-51 pixel range in the Y axis.\n",
    "\n",
    "So, let's use Python to automate this process and get each RGB value and its corresponding ASCII character:"
   ],
   "cell_type": "markdown",
   "metadata": {}
  },
  {
   "cell_type": "code",
   "execution_count": 24,
   "metadata": {},
   "outputs": [
    {
     "output_type": "stream",
     "name": "stdout",
     "text": [
      "Message = smart guy, you made it. the next level is [105, 110, 116, 101, 103, 114, 105, 116, 121]\n"
     ]
    }
   ],
   "source": [
    "from PIL import Image\n",
    "image = Image.open(\"oxygen.png\", \"r\")\n",
    "pixel_info = image.load()\n",
    "\n",
    "# Travese the rectangles in the X axis, 7 pixels for each step\n",
    "# from pixel #1 (inside the first rectangle) to #606 (inside the last rectangle)\n",
    "# We can also translate those values into characters with chr()\n",
    "ascii_message = [chr(pixel_info[rgb_value, 43][0]) for rgb_value in range(1, 606, 7)]\n",
    "print(f\"Message = {''.join(ascii_message)}\")"
   ]
  },
  {
   "source": [
    "So, there appears to be a message within the message.\n",
    "\n",
    "Let's translate that one."
   ],
   "cell_type": "markdown",
   "metadata": {}
  },
  {
   "cell_type": "code",
   "execution_count": 27,
   "metadata": {},
   "outputs": [
    {
     "output_type": "stream",
     "name": "stdout",
     "text": [
      "The solution is: integrity\n"
     ]
    }
   ],
   "source": [
    "ascii_list = [105, 110, 116, 101, 103, 114, 105, 116, 121]\n",
    "solution = [chr(number) for number in ascii_list]\n",
    "print(f\"The solution is: {''.join(solution)}\")"
   ]
  },
  {
   "source": [
    "### Solution:\n",
    "\n",
    "The message-within-the-message spells \"integrity\".\n",
    "\n",
    "---"
   ],
   "cell_type": "markdown",
   "metadata": {}
  },
  {
   "source": [
    "## Number: 8\n",
    "\n",
    "URL: http://www.pythonchallenge.com/pc/def/integrity.html\n",
    "\n",
    "Hint:\n",
    "\n",
    "> Where is the missing link?"
   ],
   "cell_type": "markdown",
   "metadata": {}
  }
 ],
 "metadata": {
  "kernelspec": {
   "display_name": "Python 3",
   "language": "python",
   "name": "python3"
  },
  "language_info": {
   "codemirror_mode": {
    "name": "ipython",
    "version": 3
   },
   "file_extension": ".py",
   "mimetype": "text/x-python",
   "name": "python",
   "nbconvert_exporter": "python",
   "pygments_lexer": "ipython3",
   "version": "3.6.9"
  }
 },
 "nbformat": 4,
 "nbformat_minor": 4
}